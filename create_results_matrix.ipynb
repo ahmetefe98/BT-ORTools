{
 "cells": [
  {
   "cell_type": "markdown",
   "metadata": {},
   "source": [
    "### Convert the results from the comparison to matrices (first solution strategy x local search strategy)"
   ]
  },
  {
   "cell_type": "code",
   "execution_count": 6,
   "metadata": {},
   "outputs": [],
   "source": [
    "import csv\n",
    "import os"
   ]
  },
  {
   "cell_type": "markdown",
   "metadata": {},
   "source": [
    "#### Get data and list of files"
   ]
  },
  {
   "cell_type": "code",
   "execution_count": 7,
   "metadata": {},
   "outputs": [],
   "source": [
    "script_dir = os.path.abspath('')\n",
    "folder_results = os.path.join(script_dir, \"results\")\n",
    "folder_results_matrix = os.path.join(folder_results, \"results_matrix\")\n",
    "\n",
    "file_names = ['homberger_200_C1_2_1-results.csv', 'homberger_200_R1_2_1-results.csv', 'homberger_200_RC1_2_1-results.csv', \n",
    "              'solomon-100-c101-results.csv', 'solomon-100-r101-results.csv', 'solomon-100-rc101-results.csv', \n",
    "              'solomon-25-c101-results.csv', 'solomon-25-r101-results.csv', 'solomon-25-rc101-results.csv', \n",
    "              'solomon-50-c101-results.csv', 'solomon-50-r101-results.csv', 'solomon-50-rc101-results.csv']"
   ]
  },
  {
   "cell_type": "markdown",
   "metadata": {},
   "source": [
    "#### Main"
   ]
  },
  {
   "cell_type": "code",
   "execution_count": 8,
   "metadata": {},
   "outputs": [],
   "source": [
    "for file_name in file_names:\n",
    "    with open(os.path.join(folder_results, file_name), 'r') as read_obj:\n",
    "        csv_reader = csv.reader(read_obj)\n",
    "        results = []\n",
    "        for line in csv_reader:\n",
    "            results.append([int(x) for x in line])\n",
    "\n",
    "    matrix =  [[0 for i in range(6)] for j in range(16)]\n",
    "\n",
    "    for i in results:\n",
    "        matrix[i[0]][i[1]] = int(i[2])\n",
    "\n",
    "    with open(os.path.join(folder_results_matrix, file_name[:-4] + '-matrix.csv'), \"w\", newline=\"\") as f:\n",
    "        writer = csv.writer(f)\n",
    "        writer.writerows(matrix)"
   ]
  }
 ],
 "metadata": {
  "interpreter": {
   "hash": "57d3c5941a8d68847079513f62568bc0353150a1c8e780d30027f8f7f0dfbfd0"
  },
  "kernelspec": {
   "display_name": "Python 3.9.7 64-bit",
   "language": "python",
   "name": "python3"
  },
  "language_info": {
   "codemirror_mode": {
    "name": "ipython",
    "version": 3
   },
   "file_extension": ".py",
   "mimetype": "text/x-python",
   "name": "python",
   "nbconvert_exporter": "python",
   "pygments_lexer": "ipython3",
   "version": "3.9.7"
  },
  "orig_nbformat": 4
 },
 "nbformat": 4,
 "nbformat_minor": 2
}
