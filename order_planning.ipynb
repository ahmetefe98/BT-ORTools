{
 "cells": [
  {
   "cell_type": "markdown",
   "metadata": {},
   "source": [
    "### Order planning in maintenance with Google OR-Tools"
   ]
  },
  {
   "cell_type": "code",
   "execution_count": 73,
   "metadata": {},
   "outputs": [],
   "source": [
    "import os\n",
    "import csv\n",
    "from ortools.constraint_solver import routing_enums_pb2\n",
    "from ortools.constraint_solver import pywrapcp"
   ]
  },
  {
   "cell_type": "markdown",
   "metadata": {},
   "source": [
    "#### Get Data"
   ]
  },
  {
   "cell_type": "code",
   "execution_count": 74,
   "metadata": {},
   "outputs": [],
   "source": [
    "script_dir = os.path.abspath('')\n",
    "folder_data_for_comparison = os.path.join(script_dir, \"data\\data_for_comparison\")\n",
    "files = os.listdir(folder_data_for_comparison)\n",
    "\n",
    "with open(os.path.join(folder_data_for_comparison, 'solomon-25-c101-time_matrix.csv'), 'r') as read_obj:\n",
    "    csv_reader = csv.reader(read_obj)\n",
    "    time_matrix = []\n",
    "    for line in csv_reader:\n",
    "        time_matrix.append([int(x) for x in line])\n",
    " \n",
    "with open(os.path.join(folder_data_for_comparison, 'service_times.csv'), 'r') as read_obj:\n",
    "    csv_reader = csv.reader(read_obj)\n",
    "    service_times = []\n",
    "    for line in csv_reader:\n",
    "        service_times.append([int(x) for x in line])\n",
    "    service_times = service_times[0][:len(time_matrix)]"
   ]
  },
  {
   "cell_type": "markdown",
   "metadata": {},
   "source": [
    "#### Functions"
   ]
  },
  {
   "cell_type": "code",
   "execution_count": 75,
   "metadata": {},
   "outputs": [],
   "source": [
    "def create_data_model():\n",
    "    data = {}\n",
    "    data['time_matrix'] = time_matrix\n",
    "    data['service_time'] = service_times\n",
    "    data['num_vehicles'] = int(len(service_times) / 3)\n",
    "    data['depot'] = 0\n",
    "    return data\n",
    "\n",
    "def print_solution(manager, routing, solution):\n",
    "    print(f'Objective: {solution.ObjectiveValue()}')\n",
    "    time_dimension = routing.GetDimensionOrDie('Time')\n",
    "    total_time = 0\n",
    "    for vehicle_id in range(manager.GetNumberOfVehicles()):\n",
    "        index = routing.Start(vehicle_id)\n",
    "        plan_output = f'Route for vehicle {vehicle_id}:\\n'\n",
    "        while not routing.IsEnd(index):\n",
    "            time_var = time_dimension.CumulVar(index)\n",
    "            plan_output += f'{manager.IndexToNode(index)} '\n",
    "            plan_output += f'Time({solution.Value(time_var)}) -> '\n",
    "            index = solution.Value(routing.NextVar(index))\n",
    "        time_var = time_dimension.CumulVar(index)\n",
    "        plan_output += f'{manager.IndexToNode(index)} '\n",
    "        plan_output += f'Time({solution.Value(time_var)})\\n'\n",
    "        plan_output += f'Time of the route: {solution.Value(time_var)}min\\n'\n",
    "        print(plan_output)\n",
    "        total_time += solution.Value(time_var)\n",
    "    print(f'Total time of all routes: {total_time}min')\n",
    "    return total_time"
   ]
  },
  {
   "cell_type": "markdown",
   "metadata": {},
   "source": [
    "#### Main"
   ]
  },
  {
   "cell_type": "code",
   "execution_count": 76,
   "metadata": {},
   "outputs": [
    {
     "name": "stdout",
     "output_type": "stream",
     "text": [
      "Objective: 4963\n",
      "Route for vehicle 0:\n",
      "0 Time(0) -> 14 Time(39) -> 16 Time(101) -> 18 Time(142) -> 0 Time(267)\n",
      "Time of the route: 267min\n",
      "\n",
      "Route for vehicle 1:\n",
      "0 Time(0) -> 5 Time(15) -> 6 Time(49) -> 4 Time(81) -> 3 Time(173) -> 0 Time(279)\n",
      "Time of the route: 279min\n",
      "\n",
      "Route for vehicle 2:\n",
      "0 Time(0) -> 2 Time(20) -> 1 Time(142) -> 0 Time(250)\n",
      "Time of the route: 250min\n",
      "\n",
      "Route for vehicle 3:\n",
      "0 Time(0) -> 17 Time(33) -> 19 Time(98) -> 12 Time(199) -> 0 Time(267)\n",
      "Time of the route: 267min\n",
      "\n",
      "Route for vehicle 4:\n",
      "0 Time(0) -> 15 Time(36) -> 13 Time(161) -> 0 Time(281)\n",
      "Time of the route: 281min\n",
      "\n",
      "Route for vehicle 5:\n",
      "0 Time(0) -> 10 Time(16) -> 11 Time(79) -> 23 Time(184) -> 0 Time(257)\n",
      "Time of the route: 257min\n",
      "\n",
      "Route for vehicle 6:\n",
      "0 Time(0) -> 8 Time(18) -> 9 Time(50) -> 7 Time(174) -> 0 Time(280)\n",
      "Time of the route: 280min\n",
      "\n",
      "Route for vehicle 7:\n",
      "0 Time(0) -> 20 Time(10) -> 22 Time(72) -> 24 Time(105) -> 25 Time(137) -> 21 Time(202) -> 0 Time(272)\n",
      "Time of the route: 272min\n",
      "\n",
      "Total time of all routes: 2153min\n"
     ]
    }
   ],
   "source": [
    "data = create_data_model()\n",
    "\n",
    "manager = pywrapcp.RoutingIndexManager(\n",
    "        len(data['time_matrix']),\n",
    "        data['num_vehicles'],\n",
    "        data['depot'])\n",
    "\n",
    "routing = pywrapcp.RoutingModel(manager)\n",
    "\n",
    "#Returns the travel time + service time between the two nodes.\n",
    "def time_callback(from_index, to_index):\n",
    "    from_node = manager.IndexToNode(from_index)\n",
    "    to_node = manager.IndexToNode(to_index)\n",
    "    return data['time_matrix'][from_node][to_node] + data['service_time'][from_node]\n",
    "\n",
    "transit_callback_index = routing.RegisterTransitCallback(time_callback)\n",
    "\n",
    "routing.SetArcCostEvaluatorOfAllVehicles(transit_callback_index)\n",
    "\n",
    "time = 'Time'\n",
    "working_time = 420 # 7 hours = 420 min\n",
    "routing.AddDimension(transit_callback_index, 0, working_time, True, time)\n",
    "time_dimension = routing.GetDimensionOrDie(time)\n",
    "time_dimension.SetGlobalSpanCostCoefficient(10)\n",
    "\n",
    "search_parameters = pywrapcp.DefaultRoutingSearchParameters()\n",
    "search_parameters.first_solution_strategy = (routing_enums_pb2.FirstSolutionStrategy.AUTOMATIC)                                                                                 \n",
    "search_parameters.local_search_metaheuristic = (routing_enums_pb2.LocalSearchMetaheuristic.AUTOMATIC)\n",
    "search_parameters.time_limit.FromSeconds(10)\n",
    "\n",
    "solution = routing.SolveWithParameters(search_parameters)\n",
    "\n",
    "if solution:\n",
    "    print_solution(manager, routing, solution)\n",
    "else:\n",
    "    print(\"Solver status: \", routing.status())\n",
    "    print('No solution found !')"
   ]
  }
 ],
 "metadata": {
  "interpreter": {
   "hash": "57d3c5941a8d68847079513f62568bc0353150a1c8e780d30027f8f7f0dfbfd0"
  },
  "kernelspec": {
   "display_name": "Python 3.9.7 64-bit",
   "language": "python",
   "name": "python3"
  },
  "language_info": {
   "codemirror_mode": {
    "name": "ipython",
    "version": 3
   },
   "file_extension": ".py",
   "mimetype": "text/x-python",
   "name": "python",
   "nbconvert_exporter": "python",
   "pygments_lexer": "ipython3",
   "version": "3.9.7"
  },
  "orig_nbformat": 4
 },
 "nbformat": 4,
 "nbformat_minor": 2
}
