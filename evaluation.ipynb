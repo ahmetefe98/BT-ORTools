{
 "cells": [
  {
   "cell_type": "markdown",
   "metadata": {},
   "source": [
    "### Evaluation of the Comparison of solution methods for order planning in maintenance with Google OR-Tools"
   ]
  },
  {
   "cell_type": "code",
   "execution_count": 2,
   "metadata": {},
   "outputs": [],
   "source": [
    "import csv\n",
    "import os\n",
    "import numpy as np\n",
    "from statistics import mean"
   ]
  },
  {
   "cell_type": "markdown",
   "metadata": {},
   "source": [
    "#### Get data and list of files"
   ]
  },
  {
   "cell_type": "code",
   "execution_count": null,
   "metadata": {},
   "outputs": [],
   "source": [
    "script_dir = os.path.abspath('')\n",
    "folder_results = os.path.join(script_dir, \"results\")\n",
    "folder_results_matrix_relative = os.path.join(folder_results, \"results_matrix_relative\")\n",
    "folder_evaluation = os.path.join(script_dir, \"evaluation\")\n",
    "folder_evaluation_for_each_instance = os.path.join(folder_evaluation, \"for_each_instance\")\n",
    "folder_evaluation_grouped_by_number_of_orders = os.path.join(folder_evaluation, \"grouped_by_number_of_orders\")\n",
    "folder_evaluation_grouped_by_structure_of_orders = os.path.join(folder_evaluation, \"grouped_by_structure_of_orders\")\n",
    "folder_evaluation_overall = os.path.join(folder_evaluation, \"overall\")\n",
    "\n",
    "\n",
    "file_names = ['homberger_200_C1_2_1-results-matrix-relative.csv', 'homberger_200_R1_2_1-results-matrix-relative.csv', \n",
    "              'homberger_200_RC1_2_1-results-matrix-relative.csv', 'solomon-100-c101-results-matrix-relative.csv', \n",
    "              'solomon-100-r101-results-matrix-relative.csv', 'solomon-100-rc101-results-matrix-relative.csv', \n",
    "              'solomon-25-c101-results-matrix-relative.csv', 'solomon-25-r101-results-matrix-relative.csv', \n",
    "              'solomon-25-rc101-results-matrix-relative.csv', 'solomon-50-c101-results-matrix-relative.csv', \n",
    "              'solomon-50-r101-results-matrix-relative.csv', 'solomon-50-rc101-results-matrix-relative.csv']\n"
   ]
  },
  {
   "cell_type": "markdown",
   "metadata": {},
   "source": [
    "#### Evaluation for each instance"
   ]
  },
  {
   "cell_type": "code",
   "execution_count": 144,
   "metadata": {},
   "outputs": [],
   "source": [
    "# calculate average for each first solution strategie and for each local search strategie\n",
    "for file_name in file_names:\n",
    "    # get time_matrix\n",
    "    with open(os.path.join(folder_results_matrix_relative, file_name), 'r') as read_obj:\n",
    "        csv_reader = csv.reader(read_obj)\n",
    "        time_matrix = []\n",
    "        for line in csv_reader:\n",
    "            time_matrix.append([float(x) for x in line])\n",
    "    # get average results for first solution strategies\n",
    "    first_solution_strategies = [0] * 16\n",
    "    for i in range(len(time_matrix)):\n",
    "        first_solution_strategies[i] = mean(time_matrix[i])\n",
    "    with open(os.path.join(folder_evaluation_for_each_instance, file_name[:-12] + 'first-solution-evaluation.csv'), \"w\", newline=\"\") as f:\n",
    "        writer = csv.writer(f)\n",
    "        writer.writerow(first_solution_strategies)\n",
    "    # get average results for local search strategies\n",
    "    local_search_strategies = [0] * 6\n",
    "    for i in range(len(time_matrix[0])):\n",
    "        local_search_strategies[i] = mean([row[i] for row in time_matrix if row[i] != 0])\n",
    "    with open(os.path.join(folder_evaluation_for_each_instance, file_name[:-12] + 'local-search-evaluation.csv'), \"w\", newline=\"\") as f:\n",
    "        writer = csv.writer(f)\n",
    "        writer.writerow(local_search_strategies)\n"
   ]
  },
  {
   "cell_type": "markdown",
   "metadata": {},
   "source": [
    "#### Evaluation grouped by number of orders"
   ]
  },
  {
   "cell_type": "code",
   "execution_count": 145,
   "metadata": {},
   "outputs": [],
   "source": [
    "# calculate average of results grouped by number of orders\n",
    "number_of_orders_list = [25, 50, 100, 200]\n",
    "for number_of_orders in number_of_orders_list:\n",
    "    combination_grouped = [[None for i in range(6)] for j in range(16)]\n",
    "    first_solution_strategies_grouped = [None] * 16\n",
    "    local_search_strategies_grouped = [None] * 6\n",
    "    for file_name in [file_name for file_name in file_names if str(number_of_orders) in file_name]:\n",
    "        with open(os.path.join(folder_results_matrix_relative, file_name), 'r') as read_obj:\n",
    "            csv_reader = csv.reader(read_obj)\n",
    "            time_matrix = []\n",
    "            for line in csv_reader:\n",
    "                time_matrix.append([float(x) for x in line])\n",
    "        with open(os.path.join(folder_evaluation_for_each_instance, file_name[:-12] + 'first-solution-evaluation.csv'), 'r') as read_obj:\n",
    "            csv_reader = csv.reader(read_obj)\n",
    "            first_solution_strategies = []\n",
    "            for line in csv_reader:\n",
    "                first_solution_strategies.append([float(x) for x in line])\n",
    "        with open(os.path.join(folder_evaluation_for_each_instance, file_name[:-12] + 'local-search-evaluation.csv'), 'r') as read_obj:\n",
    "            csv_reader = csv.reader(read_obj)\n",
    "            local_search_strategies = []\n",
    "            for line in csv_reader:\n",
    "                local_search_strategies.append([float(x) for x in line])\n",
    "        if None in combination_grouped[0]:\n",
    "            combination_grouped = time_matrix\n",
    "            first_solution_strategies_grouped = first_solution_strategies\n",
    "            local_search_strategies_grouped = local_search_strategies\n",
    "        else:\n",
    "            combination_grouped = np.mean(np.array([combination_grouped, time_matrix]), axis=0)\n",
    "            first_solution_strategies_grouped = np.mean(np.array([first_solution_strategies_grouped, first_solution_strategies]), axis=0)\n",
    "            local_search_strategies_grouped = np.mean(np.array([local_search_strategies_grouped, local_search_strategies]), axis=0)\n",
    "    for row in range(len(combination_grouped)):\n",
    "        for column in range(len(combination_grouped[row])):\n",
    "            if combination_grouped[row][column] < 1.0:\n",
    "                combination_grouped[row][column] = 0.0\n",
    "    for i in range(len(first_solution_strategies_grouped[0])):\n",
    "        if first_solution_strategies_grouped[0][i] < 1.0:\n",
    "            first_solution_strategies_grouped[0][i] = 0.0\n",
    "    with open(os.path.join(folder_evaluation_grouped_by_number_of_orders, 'combination-average-' + str(number_of_orders)  + '-orders.csv'), \"w\", newline=\"\") as f:\n",
    "        writer = csv.writer(f)\n",
    "        writer.writerows(combination_grouped)\n",
    "    with open(os.path.join(folder_evaluation_grouped_by_number_of_orders, 'first-solution-average-' + str(number_of_orders) + '-orders.csv'), \"w\", newline=\"\") as f:\n",
    "        writer = csv.writer(f)\n",
    "        writer.writerows(first_solution_strategies_grouped)\n",
    "    with open(os.path.join(folder_evaluation_grouped_by_number_of_orders, 'local-search-average-' + str(number_of_orders)  + '-orders.csv'), \"w\", newline=\"\") as f:\n",
    "        writer = csv.writer(f)\n",
    "        writer.writerows(local_search_strategies_grouped)\n"
   ]
  },
  {
   "cell_type": "markdown",
   "metadata": {},
   "source": [
    "#### Evaluation grouped by structure of orders"
   ]
  },
  {
   "cell_type": "code",
   "execution_count": 18,
   "metadata": {},
   "outputs": [],
   "source": [
    "# calculate average of results grouped by structure of orders\n",
    "structure_of_orders_list = ['c', 'r', 'rc']\n",
    "for structure_of_orders in structure_of_orders_list:\n",
    "    combination_grouped = [[None for i in range(6)] for j in range(16)]\n",
    "    first_solution_strategies_grouped = [None] * 16\n",
    "    local_search_strategies_grouped = [None] * 6\n",
    "\n",
    "    for file_name in [file_name for file_name in file_names if \"-\" + str(structure_of_orders) + \"1\" in file_name.lower() \n",
    "                                                            or \"_\" + str(structure_of_orders) + \"1\" in file_name.lower() ]:\n",
    "        with open(os.path.join(folder_results_matrix_relative, file_name), 'r') as read_obj:\n",
    "            csv_reader = csv.reader(read_obj)\n",
    "            time_matrix = []\n",
    "            for line in csv_reader:\n",
    "                time_matrix.append([float(x) for x in line])\n",
    "        with open(os.path.join(folder_evaluation_for_each_instance, file_name[:-12] + 'first-solution-evaluation.csv'), 'r') as read_obj:\n",
    "            csv_reader = csv.reader(read_obj)\n",
    "            first_solution_strategies = []\n",
    "            for line in csv_reader:\n",
    "                first_solution_strategies.append([float(x) for x in line])\n",
    "        with open(os.path.join(folder_evaluation_for_each_instance, file_name[:-12] + 'local-search-evaluation.csv'), 'r') as read_obj:\n",
    "            csv_reader = csv.reader(read_obj)\n",
    "            local_search_strategies = []\n",
    "            for line in csv_reader:\n",
    "                local_search_strategies.append([float(x) for x in line])\n",
    "        if None in combination_grouped[0]:\n",
    "            combination_grouped = time_matrix\n",
    "            first_solution_strategies_grouped = first_solution_strategies\n",
    "            local_search_strategies_grouped = local_search_strategies\n",
    "        else:\n",
    "            combination_grouped = np.mean(np.array([combination_grouped, time_matrix]), axis=0)\n",
    "            first_solution_strategies_grouped = np.mean(np.array([first_solution_strategies_grouped, first_solution_strategies]), axis=0)\n",
    "            local_search_strategies_grouped = np.mean(np.array([local_search_strategies_grouped, local_search_strategies]), axis=0)\n",
    "    for row in range(len(combination_grouped)):\n",
    "        for column in range(len(combination_grouped[row])):\n",
    "            if combination_grouped[row][column] < 1.0:\n",
    "                combination_grouped[row][column] = 0.0\n",
    "    for i in range(len(first_solution_strategies_grouped[0])):\n",
    "        if first_solution_strategies_grouped[0][i] < 1.0:\n",
    "            first_solution_strategies_grouped[0][i] = 0.0\n",
    "    with open(os.path.join(folder_evaluation_grouped_by_structure_of_orders, 'combination-average-' + str(structure_of_orders)  + '-orders.csv'), \"w\", newline=\"\") as f:\n",
    "        writer = csv.writer(f)\n",
    "        writer.writerows(combination_grouped)\n",
    "    with open(os.path.join(folder_evaluation_grouped_by_structure_of_orders, 'first-solution-average-' + str(structure_of_orders) + '-orders.csv'), \"w\", newline=\"\") as f:\n",
    "        writer = csv.writer(f)\n",
    "        writer.writerows(first_solution_strategies_grouped)\n",
    "    with open(os.path.join(folder_evaluation_grouped_by_structure_of_orders, 'local-search-average-' + str(structure_of_orders)  + '-orders.csv'), \"w\", newline=\"\") as f:\n",
    "        writer = csv.writer(f)\n",
    "        writer.writerows(local_search_strategies_grouped)"
   ]
  },
  {
   "cell_type": "markdown",
   "metadata": {},
   "source": [
    "#### Evaluation overall"
   ]
  },
  {
   "cell_type": "code",
   "execution_count": 147,
   "metadata": {},
   "outputs": [],
   "source": [
    "# calculate average of results overall\n",
    "combination_grouped = [[None for i in range(6)] for j in range(16)]\n",
    "first_solution_strategies_grouped = [None] * 16\n",
    "local_search_strategies_grouped = [None] * 6\n",
    "for file_name in file_names:\n",
    "    with open(os.path.join(folder_results_matrix_relative, file_name), 'r') as read_obj:\n",
    "        csv_reader = csv.reader(read_obj)\n",
    "        time_matrix = []\n",
    "        for line in csv_reader:\n",
    "            time_matrix.append([float(x) for x in line])\n",
    "    with open(os.path.join(folder_evaluation_for_each_instance, file_name[:-12] + 'first-solution-evaluation.csv'), 'r') as read_obj:\n",
    "        csv_reader = csv.reader(read_obj)\n",
    "        first_solution_strategies = []\n",
    "        for line in csv_reader:\n",
    "            first_solution_strategies.append([float(x) for x in line])\n",
    "    with open(os.path.join(folder_evaluation_for_each_instance, file_name[:-12] + 'local-search-evaluation.csv'), 'r') as read_obj:\n",
    "        csv_reader = csv.reader(read_obj)\n",
    "        local_search_strategies = []\n",
    "        for line in csv_reader:\n",
    "            local_search_strategies.append([float(x) for x in line])\n",
    "    if None in combination_grouped[0]:\n",
    "        combination_grouped = time_matrix\n",
    "        first_solution_strategies_grouped = first_solution_strategies\n",
    "        local_search_strategies_grouped = local_search_strategies\n",
    "    else:\n",
    "        combination_grouped = np.mean(np.array([combination_grouped, time_matrix]), axis=0)\n",
    "        first_solution_strategies_grouped = np.mean(np.array([first_solution_strategies_grouped, first_solution_strategies]), axis=0)\n",
    "        local_search_strategies_grouped = np.mean(np.array([local_search_strategies_grouped, local_search_strategies]), axis=0)\n",
    "for row in range(len(combination_grouped)):\n",
    "    for column in range(len(combination_grouped[row])):\n",
    "        if combination_grouped[row][column] < 1.0:\n",
    "            combination_grouped[row][column] = 0.0\n",
    "for i in range(len(first_solution_strategies_grouped[0])):\n",
    "    if first_solution_strategies_grouped[0][i] < 1.0:\n",
    "        first_solution_strategies_grouped[0][i] = 0.0\n",
    "with open(os.path.join(folder_evaluation_overall, 'combination-average-overall-orders.csv'), \"w\", newline=\"\") as f:\n",
    "    writer = csv.writer(f)\n",
    "    writer.writerows(combination_grouped)\n",
    "with open(os.path.join(folder_evaluation_overall, 'first-solution-average-overall.csv'), \"w\", newline=\"\") as f:\n",
    "    writer = csv.writer(f)\n",
    "    writer.writerows(first_solution_strategies_grouped)\n",
    "with open(os.path.join(folder_evaluation_overall, 'local-search-average-overall-orders.csv'), \"w\", newline=\"\") as f:\n",
    "    writer = csv.writer(f)\n",
    "    writer.writerows(local_search_strategies_grouped)"
   ]
  }
 ],
 "metadata": {
  "interpreter": {
   "hash": "57d3c5941a8d68847079513f62568bc0353150a1c8e780d30027f8f7f0dfbfd0"
  },
  "kernelspec": {
   "display_name": "Python 3.9.7 64-bit",
   "language": "python",
   "name": "python3"
  },
  "language_info": {
   "codemirror_mode": {
    "name": "ipython",
    "version": 3
   },
   "file_extension": ".py",
   "mimetype": "text/x-python",
   "name": "python",
   "nbconvert_exporter": "python",
   "pygments_lexer": "ipython3",
   "version": "3.9.7"
  },
  "orig_nbformat": 4
 },
 "nbformat": 4,
 "nbformat_minor": 2
}
