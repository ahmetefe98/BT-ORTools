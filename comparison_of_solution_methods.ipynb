{
 "cells": [
  {
   "cell_type": "markdown",
   "metadata": {},
   "source": [
    "### Comparison of solution methods for order planning in maintenance with Google OR-Tools"
   ]
  },
  {
   "cell_type": "code",
   "execution_count": 16,
   "metadata": {},
   "outputs": [],
   "source": [
    "import os\n",
    "import csv\n",
    "from ortools.constraint_solver import routing_enums_pb2\n",
    "from ortools.constraint_solver import pywrapcp"
   ]
  },
  {
   "cell_type": "markdown",
   "metadata": {},
   "source": [
    "#### List of solution methods and data files"
   ]
  },
  {
   "cell_type": "code",
   "execution_count": 17,
   "metadata": {},
   "outputs": [],
   "source": [
    "first_solution_strategies = [routing_enums_pb2.FirstSolutionStrategy.AUTOMATIC, routing_enums_pb2.FirstSolutionStrategy.PATH_CHEAPEST_ARC,\n",
    "                            routing_enums_pb2.FirstSolutionStrategy.PATH_MOST_CONSTRAINED_ARC, routing_enums_pb2.FirstSolutionStrategy.PATH_MOST_CONSTRAINED_ARC,\n",
    "                            routing_enums_pb2.FirstSolutionStrategy.EVALUATOR_STRATEGY, routing_enums_pb2.FirstSolutionStrategy.SAVINGS,\n",
    "                            routing_enums_pb2.FirstSolutionStrategy.SWEEP, routing_enums_pb2.FirstSolutionStrategy.CHRISTOFIDES,\n",
    "                            routing_enums_pb2.FirstSolutionStrategy.ALL_UNPERFORMED, routing_enums_pb2.FirstSolutionStrategy.BEST_INSERTION,\n",
    "                            routing_enums_pb2.FirstSolutionStrategy.PARALLEL_CHEAPEST_INSERTION, routing_enums_pb2.FirstSolutionStrategy.SEQUENTIAL_CHEAPEST_INSERTION,\n",
    "                            routing_enums_pb2.FirstSolutionStrategy.LOCAL_CHEAPEST_INSERTION, routing_enums_pb2.FirstSolutionStrategy.GLOBAL_CHEAPEST_ARC,\n",
    "                            routing_enums_pb2.FirstSolutionStrategy.LOCAL_CHEAPEST_ARC, routing_enums_pb2.FirstSolutionStrategy.FIRST_UNBOUND_MIN_VALUE]\n",
    "\n",
    "local_search_metaheuristics = [routing_enums_pb2.LocalSearchMetaheuristic.AUTOMATIC, routing_enums_pb2.LocalSearchMetaheuristic.GREEDY_DESCENT,\n",
    "                              routing_enums_pb2.LocalSearchMetaheuristic.GUIDED_LOCAL_SEARCH, routing_enums_pb2.LocalSearchMetaheuristic.SIMULATED_ANNEALING,\n",
    "                              routing_enums_pb2.LocalSearchMetaheuristic.TABU_SEARCH, routing_enums_pb2.LocalSearchMetaheuristic.GENERIC_TABU_SEARCH]\n",
    "\n",
    "\n",
    "data_files = ['homberger_200_C1_2_1-time_matrix.csv', 'homberger_200_R1_2_1-time_matrix.csv', 'homberger_200_RC1_2_1-time_matrix.csv',  \n",
    "              'solomon-100-c101-time_matrix.csv', 'solomon-100-r101-time_matrix.csv', 'solomon-100-rc101-time_matrix.csv',\n",
    "              'solomon-25-c101-time_matrix.csv', 'solomon-25-r101-time_matrix.csv', 'solomon-25-rc101-time_matrix.csv', \n",
    "              'solomon-50-c101-time_matrix.csv', 'solomon-50-r101-time_matrix.csv', 'solomon-50-rc101-time_matrix.csv']"
   ]
  },
  {
   "cell_type": "markdown",
   "metadata": {},
   "source": [
    "#### Get Data"
   ]
  },
  {
   "cell_type": "code",
   "execution_count": 18,
   "metadata": {},
   "outputs": [],
   "source": [
    "script_dir = os.path.abspath('')\n",
    "folder_data_for_comparison = os.path.join(script_dir, \"data\\data_for_comparison\")\n",
    "folder_results= os.path.join(script_dir, \"results\")"
   ]
  },
  {
   "cell_type": "markdown",
   "metadata": {},
   "source": [
    "#### Functions"
   ]
  },
  {
   "cell_type": "code",
   "execution_count": 19,
   "metadata": {},
   "outputs": [],
   "source": [
    "def create_data_model():\n",
    "    data = {}\n",
    "    data['time_matrix'] = time_matrix\n",
    "    data['service_time'] = service_times\n",
    "    data['num_vehicles'] = int(len(service_times) / 3)\n",
    "    data['depot'] = 0\n",
    "    return data\n",
    "\n",
    "def print_solution(manager, routing, solution):\n",
    "    #print(f'Objective: {solution.ObjectiveValue()}')\n",
    "    time_dimension = routing.GetDimensionOrDie('Time')\n",
    "    total_time = 0\n",
    "    for vehicle_id in range(manager.GetNumberOfVehicles()):\n",
    "        index = routing.Start(vehicle_id)\n",
    "        plan_output = f'Route for vehicle {vehicle_id}:\\n'\n",
    "        while not routing.IsEnd(index):\n",
    "            time_var = time_dimension.CumulVar(index)\n",
    "            plan_output += f'{manager.IndexToNode(index)} '\n",
    "            plan_output += f'Time({solution.Value(time_var)}) -> '\n",
    "            index = solution.Value(routing.NextVar(index))\n",
    "        time_var = time_dimension.CumulVar(index)\n",
    "        plan_output += f'{manager.IndexToNode(index)} '\n",
    "        plan_output += f'Time({solution.Value(time_var)})\\n'\n",
    "        plan_output += f'Time of the route: {solution.Value(time_var)}min\\n'\n",
    "        #print(plan_output)\n",
    "        total_time += solution.Value(time_var)\n",
    "    #print(f'Total time of all routes: {total_time}min')\n",
    "    return total_time"
   ]
  },
  {
   "cell_type": "markdown",
   "metadata": {},
   "source": [
    "#### Main"
   ]
  },
  {
   "cell_type": "code",
   "execution_count": 20,
   "metadata": {},
   "outputs": [
    {
     "name": "stdout",
     "output_type": "stream",
     "text": [
      "homberger_200_C1_2_1-time_matrix.csv\n",
      "homberger_200_R1_2_1-time_matrix.csv\n",
      "homberger_200_RC1_2_1-time_matrix.csv\n",
      "solomon-100-c101-time_matrix.csv\n",
      "solomon-100-r101-time_matrix.csv\n",
      "solomon-100-rc101-time_matrix.csv\n",
      "solomon-25-c101-time_matrix.csv\n",
      "solomon-25-r101-time_matrix.csv\n",
      "solomon-25-rc101-time_matrix.csv\n",
      "solomon-50-c101-time_matrix.csv\n",
      "solomon-50-r101-time_matrix.csv\n",
      "solomon-50-rc101-time_matrix.csv\n"
     ]
    }
   ],
   "source": [
    "for data_file in data_files:\n",
    "    print(data_file)\n",
    "\n",
    "    with open(os.path.join(folder_data_for_comparison, data_file), 'r') as read_obj:\n",
    "        csv_reader = csv.reader(read_obj)\n",
    "        time_matrix = []\n",
    "        for line in csv_reader:\n",
    "            time_matrix.append([int(x) for x in line])\n",
    "    \n",
    "    with open(os.path.join(folder_data_for_comparison, 'service_times.csv'), 'r') as read_obj:\n",
    "        csv_reader = csv.reader(read_obj)\n",
    "        service_times = []\n",
    "        for line in csv_reader:\n",
    "            service_times.append([int(x) for x in line])\n",
    "        service_times = service_times[0][:len(time_matrix)]\n",
    "\n",
    "    evaluation = []\n",
    "    for i in range(len(first_solution_strategies)):\n",
    "        for j in range(len(local_search_metaheuristics)):\n",
    "            data = create_data_model()\n",
    "\n",
    "            manager = pywrapcp.RoutingIndexManager(\n",
    "                    len(data['time_matrix']),\n",
    "                    data['num_vehicles'],\n",
    "                    data['depot'])\n",
    "\n",
    "            routing = pywrapcp.RoutingModel(manager)\n",
    "\n",
    "            #Returns the travel time + service time between the two nodes.\n",
    "            def time_callback(from_index, to_index):\n",
    "                from_node = manager.IndexToNode(from_index)\n",
    "                to_node = manager.IndexToNode(to_index)\n",
    "                return data['time_matrix'][from_node][to_node] + data['service_time'][from_node]\n",
    "\n",
    "            transit_callback_index = routing.RegisterTransitCallback(time_callback)\n",
    "            routing.SetArcCostEvaluatorOfAllVehicles(transit_callback_index)\n",
    "\n",
    "            time = 'Time'\n",
    "            working_time = 420 # 7 hours = 420 min\n",
    "            routing.AddDimension(transit_callback_index, 0, working_time, True, time)\n",
    "            time_dimension = routing.GetDimensionOrDie(time)\n",
    "            time_dimension.SetGlobalSpanCostCoefficient(10)\n",
    "\n",
    "            search_parameters = pywrapcp.DefaultRoutingSearchParameters()\n",
    "            search_parameters.first_solution_strategy = first_solution_strategies[i]\n",
    "            search_parameters.local_search_metaheuristic = local_search_metaheuristics[j]\n",
    "            search_parameters.time_limit.FromSeconds(10)\n",
    "\n",
    "            solution = routing.SolveWithParameters(search_parameters)\n",
    "\n",
    "            if solution:\n",
    "                total_time = print_solution(manager, routing, solution)\n",
    "                evaluation.append([i, j, total_time])\n",
    "            else:\n",
    "                #print(\"Solver status: \", routing.status())\n",
    "                #print('No solution found !')\n",
    "                evaluation.append([i, j, routing.status()])\n",
    "\n",
    "    with open(os.path.join(folder_results, data_file[:-16] + '-results.csv'), \"w\", newline=\"\") as f:\n",
    "        writer = csv.writer(f)\n",
    "        writer.writerows(evaluation)"
   ]
  }
 ],
 "metadata": {
  "interpreter": {
   "hash": "57d3c5941a8d68847079513f62568bc0353150a1c8e780d30027f8f7f0dfbfd0"
  },
  "kernelspec": {
   "display_name": "Python 3.9.7 64-bit",
   "language": "python",
   "name": "python3"
  },
  "language_info": {
   "codemirror_mode": {
    "name": "ipython",
    "version": 3
   },
   "file_extension": ".py",
   "mimetype": "text/x-python",
   "name": "python",
   "nbconvert_exporter": "python",
   "pygments_lexer": "ipython3",
   "version": "3.9.7"
  },
  "orig_nbformat": 4
 },
 "nbformat": 4,
 "nbformat_minor": 2
}
