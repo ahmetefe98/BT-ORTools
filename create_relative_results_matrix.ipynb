{
 "cells": [
  {
   "cell_type": "markdown",
   "metadata": {},
   "source": [
    "### Set all values from the results matrices in relation to the best value"
   ]
  },
  {
   "cell_type": "code",
   "execution_count": 69,
   "metadata": {},
   "outputs": [],
   "source": [
    "import csv\n",
    "import os"
   ]
  },
  {
   "cell_type": "markdown",
   "metadata": {},
   "source": [
    "#### Get data and list of files"
   ]
  },
  {
   "cell_type": "code",
   "execution_count": null,
   "metadata": {},
   "outputs": [],
   "source": [
    "script_dir = os.path.abspath('')\n",
    "folder_results = os.path.join(script_dir, \"results\")\n",
    "folder_results_matrix = os.path.join(folder_results, \"results_matrix\")\n",
    "folder_results_matrix_relative = os.path.join(folder_results, \"results_matrix_relative\")\n",
    "folder_data_for_comparison = os.path.join(script_dir, \"data\\data_for_comparison\")\n",
    "\n",
    "file_names = ['homberger_200_C1_2_1-results-matrix.csv', 'homberger_200_R1_2_1-results-matrix.csv', 'homberger_200_RC1_2_1-results-matrix.csv', \n",
    "              'solomon-100-c101-results-matrix.csv', 'solomon-100-r101-results-matrix.csv', 'solomon-100-rc101-results-matrix.csv', \n",
    "              'solomon-25-c101-results-matrix.csv', 'solomon-25-r101-results-matrix.csv', 'solomon-25-rc101-results-matrix.csv', \n",
    "              'solomon-50-c101-results-matrix.csv', 'solomon-50-r101-results-matrix.csv', 'solomon-50-rc101-results-matrix.csv']"
   ]
  },
  {
   "cell_type": "markdown",
   "metadata": {},
   "source": [
    "#### Main"
   ]
  },
  {
   "cell_type": "code",
   "execution_count": 70,
   "metadata": {},
   "outputs": [],
   "source": [
    "for file_name in file_names:\n",
    "    # get time_matrix\n",
    "    with open(os.path.join(folder_results_matrix, file_name), 'r') as read_obj:\n",
    "        csv_reader = csv.reader(read_obj)\n",
    "        time_matrix = []\n",
    "        for line in csv_reader:\n",
    "            time_matrix.append([int(x) for x in line])\n",
    "    # get sum of service time\n",
    "    with open(os.path.join(folder_data_for_comparison, 'service_times.csv'), 'r') as read_obj:\n",
    "        csv_reader = csv.reader(read_obj)\n",
    "        service_times = []\n",
    "        for line in csv_reader:\n",
    "            service_times.append([int(x) for x in line])\n",
    "        a = \"_\" if file_name[0] == 'h' else \"-\" #check if homberger or solomon data\n",
    "        number_of_orders = (file_name.split(a))[1].split(a)[0]\n",
    "        service_times = service_times[0][1:int(number_of_orders)+1]\n",
    "        sum_of_service_times = sum(service_times)\n",
    "    # select driving time through subtracting sum_of_service_time\n",
    "    for row in range(len(time_matrix)):\n",
    "        for column in range(len(time_matrix[row])):\n",
    "            if time_matrix[row][column] > 5: #only the succesfull ones\n",
    "                time_matrix[row][column] -= sum_of_service_times\n",
    "    # get minimum driving time of all succesfull ones\n",
    "    minimum_driving_time = min([time for row in time_matrix for time in row if time > 5])\n",
    "    # set minimum to 100 %, rest to time/minimum\n",
    "    for row in range(len(time_matrix)):\n",
    "        for column in range(len(time_matrix[row])):\n",
    "            if time_matrix[row][column] > 5: #only the succesfull ones\n",
    "                time_matrix[row][column] = round(time_matrix[row][column]/minimum_driving_time,4)\n",
    "            else:\n",
    "                time_matrix[row][column] = 0\n",
    "    # write the new matrix to file\n",
    "    with open(os.path.join(folder_results_matrix_relative, file_name[:-4] + '-relative.csv'), \"w\", newline=\"\") as f:\n",
    "        writer = csv.writer(f)\n",
    "        writer.writerows(time_matrix)\n"
   ]
  }
 ],
 "metadata": {
  "interpreter": {
   "hash": "57d3c5941a8d68847079513f62568bc0353150a1c8e780d30027f8f7f0dfbfd0"
  },
  "kernelspec": {
   "display_name": "Python 3.9.7 64-bit",
   "language": "python",
   "name": "python3"
  },
  "language_info": {
   "codemirror_mode": {
    "name": "ipython",
    "version": 3
   },
   "file_extension": ".py",
   "mimetype": "text/x-python",
   "name": "python",
   "nbconvert_exporter": "python",
   "pygments_lexer": "ipython3",
   "version": "3.9.7"
  },
  "orig_nbformat": 4
 },
 "nbformat": 4,
 "nbformat_minor": 2
}
