{
 "cells": [
  {
   "cell_type": "markdown",
   "metadata": {},
   "source": [
    "### Convert original data to time matrices and create service times"
   ]
  },
  {
   "cell_type": "code",
   "execution_count": 4,
   "metadata": {},
   "outputs": [],
   "source": [
    "import csv\n",
    "import math\n",
    "import os \n",
    "import random"
   ]
  },
  {
   "cell_type": "markdown",
   "metadata": {},
   "source": [
    "#### Get data and list of files"
   ]
  },
  {
   "cell_type": "code",
   "execution_count": 5,
   "metadata": {},
   "outputs": [],
   "source": [
    "script_dir = os.path.abspath('') \n",
    "folder_data= os.path.join(script_dir, \"data\")\n",
    "folder_selected_instances = os.path.join(folder_data, \"selected_instances\")\n",
    "folder_data_for_comparison = os.path.join(folder_data, \"data_for_comparison\")\n",
    "\n",
    "name_of_files = ['homberger_1000_C1_10_1.TXT', 'homberger_1000_R1_10_1.TXT', 'homberger_1000_RC1_10_1.TXT', \n",
    "                'homberger_200_C1_2_1.TXT', 'homberger_200_R1_2_1.TXT', 'homberger_200_RC1_2_1.TXT', \n",
    "                'homberger_400_C1_4_1.TXT', 'homberger_400_R1_4_1.TXT', 'homberger_400_RC1_4_1.TXT', \n",
    "                'homberger_600_C1_6_1.TXT', 'homberger_600_R1_6_1.TXT', 'homberger_600_RC1_6_1.TXT', \n",
    "                'homberger_800_C1_8_1.TXT', 'homberger_800_R1_8_1.TXT', 'homberger_800_RC1_8_1.TXT', \n",
    "                'solomon-100-c101.txt', 'solomon-100-r101.txt', 'solomon-100-rc101.txt',\n",
    "                'solomon-25-c101.txt', 'solomon-25-r101.txt', 'solomon-25-rc101.txt',\n",
    "                'solomon-50-c101.txt', 'solomon-50-r101.txt', 'solomon-50-rc101.txt']"
   ]
  },
  {
   "cell_type": "markdown",
   "metadata": {},
   "source": [
    "#### Main"
   ]
  },
  {
   "cell_type": "code",
   "execution_count": 6,
   "metadata": {},
   "outputs": [
    {
     "name": "stdout",
     "output_type": "stream",
     "text": [
      "Done\n"
     ]
    }
   ],
   "source": [
    "#calculate euclidean distance between two coordinates\n",
    "def euclidean(x,y):\n",
    "    return math.sqrt((x[0]-y[0])**2 + (x[1]-y[1])**2)\n",
    "\n",
    "#create time matrix for all instances\n",
    "for file_name in name_of_files:\n",
    "    #get data from file\n",
    "    with open(os.path.join(folder_selected_instances, file_name)) as csv_file:\n",
    "        csv_reader = csv.reader(csv_file)\n",
    "        #skipt the first 9 lines \n",
    "        [next(csv_reader) for _ in range(9)] \n",
    "        #get x and y coordinates of the locations\n",
    "        coordinates = []\n",
    "        for line in csv_reader:\n",
    "            coordinates.append([int(line[0].split()[1]), int(line[0].split()[2])])\n",
    "\n",
    "    #matrix with distances between all coordinates\n",
    "    time_matrix = []\n",
    "    for coordinate1 in coordinates:\n",
    "        colum = []\n",
    "        for coordinate2 in coordinates:\n",
    "            colum.append(int(euclidean(coordinate1,coordinate2)))\n",
    "        time_matrix.append(colum)\n",
    "\n",
    "    #save time_matrix in file\n",
    "    with open(os.path.join(folder_data_for_comparison, file_name[:-4] + '-time_matrix.csv'), \"w\", newline=\"\") as f:\n",
    "        writer = csv.writer(f)\n",
    "        writer.writerows(time_matrix)\n",
    "\n",
    "#create 1000 random service times between 30 min and 120 min in 30 min step\n",
    "#first service time = 0 for the depot\n",
    "service_times = [random.randrange(30,121,30) for i in range(1000)]\n",
    "service_times = [0] + service_times\n",
    "\n",
    "with open(os.path.join(folder_data_for_comparison, 'service_times.csv'), \"w\", newline=\"\") as f:\n",
    "    writer = csv.writer(f)\n",
    "    writer.writerow(service_times)\n",
    "\n",
    "print(\"Done\")"
   ]
  }
 ],
 "metadata": {
  "interpreter": {
   "hash": "57d3c5941a8d68847079513f62568bc0353150a1c8e780d30027f8f7f0dfbfd0"
  },
  "kernelspec": {
   "display_name": "Python 3.9.7 64-bit",
   "language": "python",
   "name": "python3"
  },
  "language_info": {
   "codemirror_mode": {
    "name": "ipython",
    "version": 3
   },
   "file_extension": ".py",
   "mimetype": "text/x-python",
   "name": "python",
   "nbconvert_exporter": "python",
   "pygments_lexer": "ipython3",
   "version": "3.9.7"
  },
  "orig_nbformat": 4
 },
 "nbformat": 4,
 "nbformat_minor": 2
}
